{
 "cells": [
  {
   "cell_type": "code",
   "execution_count": 2,
   "id": "58fa66e5",
   "metadata": {},
   "outputs": [],
   "source": [
    "import numpy as np"
   ]
  },
  {
   "cell_type": "code",
   "execution_count": 3,
   "id": "396c2279",
   "metadata": {},
   "outputs": [
    {
     "name": "stdout",
     "output_type": "stream",
     "text": [
      "f(a) =  -1.0\n",
      "f(b) =  0.45969769413186023\n",
      "Existe raiz de f no intervalo dado\n",
      "\n"
     ]
    }
   ],
   "source": [
    "# definir a função\n",
    "def f(x):\n",
    "    y = x**2 - np.cos(x)\n",
    "    return y\n",
    "\n",
    "# definir o intervalo\n",
    "a = 0\n",
    "b = 1\n",
    "\n",
    "print(\"f(a) = \", f(a))\n",
    "print(\"f(b) = \", f(b))\n",
    "\n",
    "if f(a)*f(b) < 0:\n",
    "    print(\"Existe raiz de f no intervalo dado\\n\")\n",
    "elif f(a)*f(b) == 0:\n",
    "    print(\"a ou b sao raizes de f\")\n",
    "else:\n",
    "    print(\"Nao eh possivel dizer se ha raiz no intervalo dado\\n\")"
   ]
  }
 ],
 "metadata": {
  "kernelspec": {
   "display_name": "Python 3",
   "language": "python",
   "name": "python3"
  },
  "language_info": {
   "codemirror_mode": {
    "name": "ipython",
    "version": 3
   },
   "file_extension": ".py",
   "mimetype": "text/x-python",
   "name": "python",
   "nbconvert_exporter": "python",
   "pygments_lexer": "ipython3",
   "version": "3.13.2"
  }
 },
 "nbformat": 4,
 "nbformat_minor": 5
}
